{
 "cells": [
  {
   "metadata": {},
   "cell_type": "markdown",
   "source": "Question 1: Find range of values for uint8, int8, uint32 and int32 data types",
   "id": "7c4393a8fc9e9587"
  },
  {
   "cell_type": "code",
   "id": "initial_id",
   "metadata": {
    "collapsed": true,
    "ExecuteTime": {
     "end_time": "2024-07-06T05:44:14.177130Z",
     "start_time": "2024-07-06T05:44:14.172833Z"
    }
   },
   "source": [
    "import numpy as np\n",
    "\n",
    "print(\"Range of values for uint8:\", np.iinfo(np.uint8).min, \"-\", np.iinfo(np.uint8).max)\n",
    "print(\"Range of values for int8:\", np.iinfo(np.int8).min, \"-\", np.iinfo(np.int8).max)\n",
    "print(\"Range of values for uint32:\", np.iinfo(np.uint32).min, \"-\", np.iinfo(np.uint32).max)\n",
    "print(\"Range of values for int32:\", np.iinfo(np.int32).min, \"-\", np.iinfo(np.int32).max)"
   ],
   "outputs": [
    {
     "name": "stdout",
     "output_type": "stream",
     "text": [
      "Range of values for uint8: 0 - 255\n",
      "Range of values for int8: -128 - 127\n",
      "Range of values for uint32: 0 - 4294967295\n",
      "Range of values for int32: -2147483648 - 2147483647\n"
     ]
    }
   ],
   "execution_count": 2
  },
  {
   "metadata": {},
   "cell_type": "markdown",
   "source": [
    "Question 2:\n",
    "Try to write a simple custom function to determine whether a given integer is odd or even number."
   ],
   "id": "e23b7f31b9d47889"
  },
  {
   "metadata": {
    "ExecuteTime": {
     "end_time": "2024-07-06T05:44:14.180479Z",
     "start_time": "2024-07-06T05:44:14.178135Z"
    }
   },
   "cell_type": "code",
   "source": [
    "def oddOrEven(n):\n",
    "    print(n, \"is a odd number.\") if n % 2 != 0 else print(n, \"is an even number.\")\n",
    "\n",
    "\n",
    "oddOrEven(3)"
   ],
   "id": "143aab2138547590",
   "outputs": [
    {
     "name": "stdout",
     "output_type": "stream",
     "text": [
      "3 is a odd number.\n"
     ]
    }
   ],
   "execution_count": 3
  },
  {
   "metadata": {},
   "cell_type": "markdown",
   "source": "Question 3: Write a simple example code to show that Numpy is more efficient in numerical computation of large arrays of data than equivalent Python list.",
   "id": "69555813401de746"
  },
  {
   "metadata": {
    "ExecuteTime": {
     "end_time": "2024-07-06T05:44:14.696155Z",
     "start_time": "2024-07-06T05:44:14.181482Z"
    }
   },
   "cell_type": "code",
   "source": [
    "import time\n",
    "\n",
    "# Create a large array using NumPy\n",
    "n = 100_000_000\n",
    "numpy_array = np.ones(n)\n",
    "\n",
    "start = time.time()\n",
    "# Compute the sum using NumPy\n",
    "numpy_sum = np.sum(numpy_array)\n",
    "end = time.time()\n",
    "\n",
    "# Print time consumed\n",
    "print(f\"Sum using NumPy: {numpy_sum}\")\n",
    "print(end - start)\n",
    "\n",
    "# Now do the same with a Python list\n",
    "python_list = [1] * n\n",
    "\n",
    "start = time.time()\n",
    "# Compute the sum using Python list\n",
    "python_sum = sum(python_list)\n",
    "end = time.time()\n",
    "\n",
    "# Print time consumed\n",
    "print(f\"Sum using Python list: {python_sum}\")\n",
    "print(end - start)"
   ],
   "id": "6640ec1199af3280",
   "outputs": [
    {
     "name": "stdout",
     "output_type": "stream",
     "text": [
      "Sum using NumPy: 100000000.0\n",
      "0.0425114631652832\n",
      "Sum using Python list: 100000000\n",
      "0.2609705924987793\n"
     ]
    }
   ],
   "execution_count": 4
  },
  {
   "metadata": {},
   "cell_type": "markdown",
   "source": "Question 4",
   "id": "b370182c0c9d8fc6"
  },
  {
   "metadata": {
    "ExecuteTime": {
     "end_time": "2024-07-06T05:44:14.700399Z",
     "start_time": "2024-07-06T05:44:14.697159Z"
    }
   },
   "cell_type": "code",
   "source": [
    "# create a 1D array\n",
    "my_arr = np.arange(10)\n",
    "print(\"Initial my_arr: \", my_arr)\n",
    "\n",
    "# arr_slice = my_arr\n",
    "arr_slice = my_arr.copy()\n",
    "print(\"Initial arr_slice: \", arr_slice)\n",
    "\n",
    "# change the first element of arr_slice\n",
    "arr_slice[0] = 55\n",
    "\n",
    "print(\"my_arr: \", my_arr)\n",
    "print(\"arr_slice: \", arr_slice)\n",
    "\n",
    "# Line 6 replace line 5"
   ],
   "id": "59b85e8174cad43f",
   "outputs": [
    {
     "name": "stdout",
     "output_type": "stream",
     "text": [
      "Initial my_arr:  [0 1 2 3 4 5 6 7 8 9]\n",
      "Initial arr_slice:  [0 1 2 3 4 5 6 7 8 9]\n",
      "my_arr:  [0 1 2 3 4 5 6 7 8 9]\n",
      "arr_slice:  [55  1  2  3  4  5  6  7  8  9]\n"
     ]
    }
   ],
   "execution_count": 5
  },
  {
   "metadata": {},
   "cell_type": "markdown",
   "source": "Question 5: Create an image as shown as the following with the help of Numpy and matplotlib modules. You can arbitrarily set the dimension of the image and white circular spot at the middle.",
   "id": "bc34c7ff857aebf3"
  },
  {
   "metadata": {
    "ExecuteTime": {
     "end_time": "2024-07-06T05:44:32.596428Z",
     "start_time": "2024-07-06T05:44:32.520030Z"
    }
   },
   "cell_type": "code",
   "source": [
    "import matplotlib.pyplot as plt\n",
    "\n",
    "# 256x256, 3 colour channels (R, G, B)\n",
    "canvas = np.zeros((256, 256, 3), dtype=np.uint8)\n",
    "\n",
    "# Define circle parameters\n",
    "center_x, center_y = 128, 128\n",
    "radius = 50\n",
    "color = (255, 255, 255)  # White color\n",
    "\n",
    "# Draw the circle\n",
    "for x in range(256):\n",
    "    for y in range(256):\n",
    "        # Equation of Circle: x^2 + y^2 = r^2\n",
    "        if (x - center_x) ** 2 + (y - center_y) ** 2 <= radius ** 2:\n",
    "            canvas[y, x] = color\n",
    "\n",
    "# Display the image\n",
    "plt.imshow(canvas)\n",
    "plt.axis('off')\n",
    "plt.show()"
   ],
   "id": "39f49f9a34c4d775",
   "outputs": [
    {
     "data": {
      "text/plain": [
       "<Figure size 640x480 with 1 Axes>"
      ],
      "image/png": "[encoded data removed]"
     },
     "metadata": {},
     "output_type": "display_data"
    }
   ],
   "execution_count": 7
  },
  {
   "metadata": {},
   "cell_type": "code",
   "source": "",
   "id": "bf8fbd55c3391eea",
   "outputs": [],
   "execution_count": null
  }
 ],
 "metadata": {
  "kernelspec": {
   "display_name": "Python 3",
   "language": "python",
   "name": "python3"
  },
  "language_info": {
   "codemirror_mode": {
    "name": "ipython",
    "version": 2
   },
   "file_extension": ".py",
   "mimetype": "text/x-python",
   "name": "python",
   "nbconvert_exporter": "python",
   "pygments_lexer": "ipython2",
   "version": "2.7.6"
  }
 },
 "nbformat": 4,
 "nbformat_minor": 5
}
