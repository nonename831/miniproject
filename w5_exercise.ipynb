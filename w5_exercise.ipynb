{
 "cells": [
  {
   "cell_type": "markdown",
   "id": "c2ecfb41",
   "metadata": {},
   "source": [
    "# Weekly activity\n",
    "1. Rotate image by 45 degrees without cropping the sides of the image. (Hint: There are 2 strategies to tackle these problems). Use _\"lena.jfif\"_ as the input image.\n",
    "    - Use external libraries `imutils`.  \n",
    "    - Modify the transformation matrix.\n"
   ]
  },
  {
   "cell_type": "code",
   "execution_count": 1,
   "id": "2619fe85",
   "metadata": {},
   "outputs": [
    {
     "name": "stdout",
     "output_type": "stream",
     "text": [
      "Requirement already satisfied: imutils in c:\\users\\acer\\appdata\\local\\programs\\python\\python39\\lib\\site-packages (0.5.4)\n",
      "Note: you may need to restart the kernel to use updated packages.\n"
     ]
    },
    {
     "name": "stderr",
     "output_type": "stream",
     "text": [
      "WARNING: You are using pip version 21.1.3; however, version 24.2 is available.\n",
      "You should consider upgrading via the 'c:\\users\\acer\\appdata\\local\\programs\\python\\python39\\python.exe -m pip install --upgrade pip' command.\n"
     ]
    }
   ],
   "source": [
    "pip install imutils"
   ]
  },
  {
   "cell_type": "code",
   "execution_count": 2,
   "id": "c354dfaa-69e7-4fa9-8216-2c9be39bd68b",
   "metadata": {},
   "outputs": [],
   "source": [
    "import cv2 as cv\n",
    "import numpy as np\n",
    "import imutils\n",
    "import matplotlib.pyplot as plt\n",
    "from IPython.display import Image"
   ]
  },
  {
   "cell_type": "code",
   "execution_count": 3,
   "id": "5cf25087-0479-40a4-a8cb-31f1f103b39b",
   "metadata": {},
   "outputs": [],
   "source": [
    "# Question1\n",
    "image = cv.imread('images/lena.jfif')\n",
    "\n",
    "rotated = imutils.rotate_bound(image, angle = 45)\n",
    "\n",
    "cv.imshow('Rotated Image with imutils', rotated)\n",
    "cv.imwrite('images/lena_imutils_rotate_45.png', rotated) \n",
    "\n",
    "rows, cols = image.shape[:2]\n",
    "\n",
    "# Define the rotation angle \n",
    "angle = 45\n",
    "angle_rad = np.deg2rad(angle)\n",
    "\n",
    "# Calculate the new image dimensions after rotation\n",
    "new_width = int(cols * np.abs(np.cos(angle_rad)) + rows * np.abs(np.sin(angle_rad)))\n",
    "new_height = int(rows * np.abs(np.cos(angle_rad)) + cols * np.abs(np.sin(angle_rad)))\n",
    "\n",
    "# Compute the rotation matrix\n",
    "M = cv.getRotationMatrix2D((cols / 2, rows / 2), angle, 1)\n",
    "\n",
    "# Adjust the translation component of the matrix to avoid cropping\n",
    "M[0, 2] += (new_width - cols) / 2\n",
    "M[1, 2] += (new_height - rows) / 2\n",
    "\n",
    "# Perform the rotation\n",
    "rotated = cv.warpAffine(image, M, (new_width, new_height), borderValue=(255, 255, 255))\n",
    "\n",
    "# Display the rotated image\n",
    "cv.imshow('Rotated Image with numpy', rotated)\n",
    "cv.imwrite('images/lena_imutils_rotate_45.png', image) \n",
    "cv.waitKey(0)\n",
    "cv.destroyAllWindows()"
   ]
  },
  {
   "cell_type": "markdown",
   "id": "ac2fb3aa",
   "metadata": {},
   "source": [
    "2. Use the images with titles: _\"flower.jfif\"_ and _\"native-bee.png\"_. I want to put flower above an image. If I add two images, it will change color. If I blend it, I get a transparent effect. But I want it to be opaque. If it was a rectangular region, we could use the ROI as we did in the previous section. But flower is not a rectangular region. This is where bitwise operations, like AND, OR, NOT and XOR really come in handy. The associated functions are `cv.bitwise_and()`, `cv.bitwise_or()` and `cv.bitwise_not()`. You need to use `cv.threshold` function to segment the flower. Please refer to [online documentation](https://docs.opencv.org/4.x/d0/d86/tutorial_py_image_arithmetics.html) for more info. The result should resemble the following:  \n",
    "![bee and flowers](img_embed/activity3.PNG \"bee_flower\")"
   ]
  },
  {
   "cell_type": "code",
   "execution_count": 6,
   "id": "d0ae1f23",
   "metadata": {},
   "outputs": [],
   "source": [
    "# Question2\n",
    "bee = cv.imread(\"images/native-bee.png\")\n",
    "flower = cv.imread(\"images/flower.jfif\")\n",
    "\n",
    "# get dimension of flower img\n",
    "rows, cols, cahnnels = flower.shape\n",
    "# define roi for flower\n",
    "roi = bee[0:rows, 0:cols]\n",
    "\n",
    "# convert flower image to grayscale\n",
    "flower_gray = cv.cvtColor(flower, cv.COLOR_BGR2GRAY)    \n",
    "\n",
    "# create binary mask\n",
    "ret, mask = cv.threshold(flower_gray, 70, 255, cv.THRESH_BINARY)     \n",
    "mask_inv = cv.bitwise_not(mask)    # create inverse mask\n",
    "\n",
    "bee_bg = cv.bitwise_and(roi, roi, mask = mask_inv)     # black out area of flower in bee\n",
    "flower_fg = cv.bitwise_and(flower, flower, mask = mask)    # take region of flower\n",
    "\n",
    "# add flower to roi & modify main image\n",
    "dst = cv.add(bee_bg, flower_fg)\n",
    "bee[0:rows, 0:cols] = dst\n",
    "\n",
    "cv.imshow('result',bee)\n",
    "cv.imwrite(\"images/flower_bee.png\",bee)\n",
    "cv.waitKey(0)\n",
    "cv.destroyAllWindows()"
   ]
  },
  {
   "cell_type": "markdown",
   "id": "71a2c2f0-f8d8-4236-8132-fe329710efb9",
   "metadata": {},
   "source": [
    "3. Write a function that randomly crop the central region of an image. The method signature should be as shown in the following:\n",
    "```\n",
    "random_center_crop(image, min_crop_ratio, max_crop_ratio)\n",
    "```\n"
   ]
  },
  {
   "cell_type": "code",
   "execution_count": 14,
   "id": "ba9f5d50-5d14-49a9-b596-6e208ce008ce",
   "metadata": {},
   "outputs": [],
   "source": [
    "def random_center_crop(image, min_crop_ratio, max_crop_ratio):\n",
    "    \"\"\"\"\"\"\n",
    "    \n",
    "    height, width = image.shape[:2]\n",
    "\n",
    "    # Calculate crop sizes based on ratios\n",
    "    min_crop_size = int(min(height, width) * min_crop_ratio)\n",
    "    max_crop_size = int(min(height, width) * max_crop_ratio)\n",
    "\n",
    "    # Randomly select crop size\n",
    "    crop_size = np.random.randint(min_crop_size, max_crop_size + 1)\n",
    "\n",
    "    # Calculate crop region\n",
    "    x = (width - crop_size) // 2\n",
    "    y = (height - crop_size) // 2\n",
    "\n",
    "    # Perform cropping\n",
    "    img_crop = image[y:y+crop_size, x:x+crop_size]\n",
    "\n",
    "    return img_crop"
   ]
  },
  {
   "cell_type": "code",
   "execution_count": 15,
   "id": "fdab34d9-7624-4284-9034-b61037c76677",
   "metadata": {},
   "outputs": [
    {
     "ename": "AttributeError",
     "evalue": "'NoneType' object has no attribute 'shape'",
     "output_type": "error",
     "traceback": [
      "\u001b[1;31m---------------------------------------------------------------------------\u001b[0m",
      "\u001b[1;31mAttributeError\u001b[0m                            Traceback (most recent call last)",
      "Cell \u001b[1;32mIn[15], line 5\u001b[0m\n\u001b[0;32m      2\u001b[0m img \u001b[38;5;241m=\u001b[39m cv\u001b[38;5;241m.\u001b[39mimread(\u001b[38;5;124m\"\u001b[39m\u001b[38;5;124mimages/car.jpg\u001b[39m\u001b[38;5;124m\"\u001b[39m)\n\u001b[0;32m      4\u001b[0m \u001b[38;5;66;03m# Perform random center cropping\u001b[39;00m\n\u001b[1;32m----> 5\u001b[0m img_crop \u001b[38;5;241m=\u001b[39m \u001b[43mrandom_center_crop\u001b[49m\u001b[43m(\u001b[49m\u001b[43mimg\u001b[49m\u001b[43m,\u001b[49m\u001b[43m \u001b[49m\u001b[38;5;241;43m0.5\u001b[39;49m\u001b[43m,\u001b[49m\u001b[43m \u001b[49m\u001b[38;5;241;43m0.8\u001b[39;49m\u001b[43m)\u001b[49m\n\u001b[0;32m      7\u001b[0m \u001b[38;5;66;03m# Display the cropped image\u001b[39;00m\n\u001b[0;32m      8\u001b[0m cv\u001b[38;5;241m.\u001b[39mimshow(\u001b[38;5;124m'\u001b[39m\u001b[38;5;124mresult\u001b[39m\u001b[38;5;124m'\u001b[39m, img_crop)\n",
      "Cell \u001b[1;32mIn[14], line 4\u001b[0m, in \u001b[0;36mrandom_center_crop\u001b[1;34m(image, min_crop_ratio, max_crop_ratio)\u001b[0m\n\u001b[0;32m      1\u001b[0m \u001b[38;5;28;01mdef\u001b[39;00m \u001b[38;5;21mrandom_center_crop\u001b[39m(image, min_crop_ratio, max_crop_ratio):\n\u001b[0;32m      2\u001b[0m \u001b[38;5;250m    \u001b[39m\u001b[38;5;124;03m\"\"\"\"\"\"\u001b[39;00m\n\u001b[1;32m----> 4\u001b[0m     height, width \u001b[38;5;241m=\u001b[39m \u001b[43mimage\u001b[49m\u001b[38;5;241;43m.\u001b[39;49m\u001b[43mshape\u001b[49m[:\u001b[38;5;241m2\u001b[39m]\n\u001b[0;32m      6\u001b[0m     \u001b[38;5;66;03m# Calculate crop sizes based on ratios\u001b[39;00m\n\u001b[0;32m      7\u001b[0m     min_crop_size \u001b[38;5;241m=\u001b[39m \u001b[38;5;28mint\u001b[39m(\u001b[38;5;28mmin\u001b[39m(height, width) \u001b[38;5;241m*\u001b[39m min_crop_ratio)\n",
      "\u001b[1;31mAttributeError\u001b[0m: 'NoneType' object has no attribute 'shape'"
     ]
    }
   ],
   "source": [
    "# Read the image\n",
    "img = cv.imread(\"images/car.jpg\")\n",
    "img_crop = random_center_crop(img, 0.5, 0.8)\n",
    "\n",
    "cv.imshow('result', img_crop)\n",
    "cv.imwrite(\"images/img_crop.png\", img_crop)\n",
    "cv.waitKey(0)\n",
    "cv.destroyAllWindows()"
   ]
  },
  {
   "cell_type": "markdown",
   "id": "ac2ec18d-d159-479e-beb6-80aab315e51e",
   "metadata": {},
   "source": [
    "\n",
    "4. Aside from Gaussian noise, name another common type of noise. Write the code to demonstrate how the noise can be included in an image."
   ]
  },
  {
   "cell_type": "code",
   "execution_count": 17,
   "id": "b8fe9279-442b-4813-8cf0-8c18e50374d3",
   "metadata": {},
   "outputs": [],
   "source": [
    "image = cv.imread('images/native-bee.png', cv.IMREAD_COLOR)\n",
    "\n",
    "# Generate Poisson noise\n",
    "noisy_image = np.random.poisson(image / 255.0 * 100) / 100.0 * 255.0\n",
    "\n",
    "# Ensure values are within valid range\n",
    "noisy_image = np.clip(noisy_image, 0, 255).astype(np.uint8)\n",
    "\n",
    "# Display original and noisy image\n",
    "cv.imshow('Original Image', image)\n",
    "cv.imshow('Noisy Image (Poisson)', noisy_image)\n",
    "cv.imwrite('images/noisy_bee.png',noisy_image)\n",
    "cv.waitKey(0)\n",
    "cv.destroyAllWindows()"
   ]
  }
 ],
 "metadata": {
  "kernelspec": {
   "display_name": "Python 3 (ipykernel)",
   "language": "python",
   "name": "python3"
  },
  "language_info": {
   "codemirror_mode": {
    "name": "ipython",
    "version": 3
   },
   "file_extension": ".py",
   "mimetype": "text/x-python",
   "name": "python",
   "nbconvert_exporter": "python",
   "pygments_lexer": "ipython3",
   "version": "3.9.6"
  }
 },
 "nbformat": 4,
 "nbformat_minor": 5
}
